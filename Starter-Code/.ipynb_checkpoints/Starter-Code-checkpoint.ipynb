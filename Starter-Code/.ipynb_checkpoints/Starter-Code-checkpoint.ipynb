{
 "cells": [
  {
   "cell_type": "code",
   "execution_count": 154,
   "metadata": {
    "collapsed": true
   },
   "outputs": [],
   "source": [
    "import pandas as pd\n",
    "import numpy as np\n",
    "import matplotlib as plt\n",
    "\n",
    "%matplotlib inline"
   ]
  },
  {
   "cell_type": "code",
   "execution_count": 155,
   "metadata": {
    "collapsed": true
   },
   "outputs": [],
   "source": [
    "dfWeath = pd.read_csv('../assets/weather.csv')"
   ]
  },
  {
   "cell_type": "code",
   "execution_count": 156,
   "metadata": {
    "collapsed": false
   },
   "outputs": [],
   "source": [
    "dfWeath.drop(['SnowFall', 'CodeSum','Depth','Sunrise','Sunset','Depart','Heat','Cool','Depth','Water1'],axis=1, inplace=True)"
   ]
  },
  {
   "cell_type": "code",
   "execution_count": 157,
   "metadata": {
    "collapsed": false
   },
   "outputs": [],
   "source": [
    "dfWeath = dfWeath.replace('M',np.nan)\n",
    "dfWeath['PrecipTotal'] = dfWeath['PrecipTotal'].str.replace('T','NaN')    \n",
    "dfWeath['Date'] = pd.to_datetime(dfWeath['Date'])"
   ]
  },
  {
   "cell_type": "code",
   "execution_count": 158,
   "metadata": {
    "collapsed": false
   },
   "outputs": [],
   "source": [
    "for i in dfWeath.columns[2:]:\n",
    "    if dfWeath[i].dtype == object:\n",
    "        dfWeath[i]= dfWeath[i].astype(float, inplace=True)\n",
    "    \n",
    "\n"
   ]
  },
  {
   "cell_type": "code",
   "execution_count": 159,
   "metadata": {
    "collapsed": false
   },
   "outputs": [],
   "source": [
    "dfWeathDate = dfWeath.groupby(['Date']).mean()"
   ]
  },
  {
   "cell_type": "code",
   "execution_count": 160,
   "metadata": {
    "collapsed": false
   },
   "outputs": [
    {
     "data": {
      "text/html": [
       "<div>\n",
       "<table border=\"1\" class=\"dataframe\">\n",
       "  <thead>\n",
       "    <tr style=\"text-align: right;\">\n",
       "      <th></th>\n",
       "      <th>Station</th>\n",
       "      <th>Tmax</th>\n",
       "      <th>Tmin</th>\n",
       "      <th>Tavg</th>\n",
       "      <th>DewPoint</th>\n",
       "      <th>WetBulb</th>\n",
       "      <th>PrecipTotal</th>\n",
       "      <th>StnPressure</th>\n",
       "      <th>SeaLevel</th>\n",
       "      <th>ResultSpeed</th>\n",
       "      <th>ResultDir</th>\n",
       "      <th>AvgSpeed</th>\n",
       "    </tr>\n",
       "    <tr>\n",
       "      <th>Date</th>\n",
       "      <th></th>\n",
       "      <th></th>\n",
       "      <th></th>\n",
       "      <th></th>\n",
       "      <th></th>\n",
       "      <th></th>\n",
       "      <th></th>\n",
       "      <th></th>\n",
       "      <th></th>\n",
       "      <th></th>\n",
       "      <th></th>\n",
       "      <th></th>\n",
       "    </tr>\n",
       "  </thead>\n",
       "  <tbody>\n",
       "    <tr>\n",
       "      <th>2007-05-01</th>\n",
       "      <td>1.5</td>\n",
       "      <td>83.5</td>\n",
       "      <td>51.0</td>\n",
       "      <td>67.5</td>\n",
       "      <td>51.0</td>\n",
       "      <td>56.5</td>\n",
       "      <td>0.0</td>\n",
       "      <td>29.140</td>\n",
       "      <td>29.820</td>\n",
       "      <td>2.20</td>\n",
       "      <td>26.0</td>\n",
       "      <td>9.40</td>\n",
       "    </tr>\n",
       "    <tr>\n",
       "      <th>2007-05-02</th>\n",
       "      <td>1.5</td>\n",
       "      <td>59.5</td>\n",
       "      <td>42.5</td>\n",
       "      <td>51.5</td>\n",
       "      <td>42.0</td>\n",
       "      <td>47.0</td>\n",
       "      <td>0.0</td>\n",
       "      <td>29.410</td>\n",
       "      <td>30.085</td>\n",
       "      <td>13.15</td>\n",
       "      <td>3.0</td>\n",
       "      <td>13.40</td>\n",
       "    </tr>\n",
       "    <tr>\n",
       "      <th>2007-05-03</th>\n",
       "      <td>1.5</td>\n",
       "      <td>66.5</td>\n",
       "      <td>47.0</td>\n",
       "      <td>57.0</td>\n",
       "      <td>40.0</td>\n",
       "      <td>49.0</td>\n",
       "      <td>0.0</td>\n",
       "      <td>29.425</td>\n",
       "      <td>30.120</td>\n",
       "      <td>12.30</td>\n",
       "      <td>6.5</td>\n",
       "      <td>12.55</td>\n",
       "    </tr>\n",
       "    <tr>\n",
       "      <th>2007-05-04</th>\n",
       "      <td>1.5</td>\n",
       "      <td>72.0</td>\n",
       "      <td>50.0</td>\n",
       "      <td>58.0</td>\n",
       "      <td>41.5</td>\n",
       "      <td>50.0</td>\n",
       "      <td>0.0</td>\n",
       "      <td>29.335</td>\n",
       "      <td>30.045</td>\n",
       "      <td>10.25</td>\n",
       "      <td>7.5</td>\n",
       "      <td>10.60</td>\n",
       "    </tr>\n",
       "    <tr>\n",
       "      <th>2007-05-05</th>\n",
       "      <td>1.5</td>\n",
       "      <td>66.0</td>\n",
       "      <td>53.5</td>\n",
       "      <td>60.0</td>\n",
       "      <td>38.5</td>\n",
       "      <td>49.5</td>\n",
       "      <td>NaN</td>\n",
       "      <td>29.430</td>\n",
       "      <td>30.095</td>\n",
       "      <td>11.45</td>\n",
       "      <td>7.0</td>\n",
       "      <td>11.75</td>\n",
       "    </tr>\n",
       "  </tbody>\n",
       "</table>\n",
       "</div>"
      ],
      "text/plain": [
       "            Station  Tmax  Tmin  Tavg  DewPoint  WetBulb  PrecipTotal  \\\n",
       "Date                                                                    \n",
       "2007-05-01      1.5  83.5  51.0  67.5      51.0     56.5          0.0   \n",
       "2007-05-02      1.5  59.5  42.5  51.5      42.0     47.0          0.0   \n",
       "2007-05-03      1.5  66.5  47.0  57.0      40.0     49.0          0.0   \n",
       "2007-05-04      1.5  72.0  50.0  58.0      41.5     50.0          0.0   \n",
       "2007-05-05      1.5  66.0  53.5  60.0      38.5     49.5          NaN   \n",
       "\n",
       "            StnPressure  SeaLevel  ResultSpeed  ResultDir  AvgSpeed  \n",
       "Date                                                                 \n",
       "2007-05-01       29.140    29.820         2.20       26.0      9.40  \n",
       "2007-05-02       29.410    30.085        13.15        3.0     13.40  \n",
       "2007-05-03       29.425    30.120        12.30        6.5     12.55  \n",
       "2007-05-04       29.335    30.045        10.25        7.5     10.60  \n",
       "2007-05-05       29.430    30.095        11.45        7.0     11.75  "
      ]
     },
     "execution_count": 160,
     "metadata": {},
     "output_type": "execute_result"
    }
   ],
   "source": [
    "dfWeathDate.head()"
   ]
  },
  {
   "cell_type": "code",
   "execution_count": 161,
   "metadata": {
    "collapsed": true
   },
   "outputs": [],
   "source": [
    "dfWeathDate.to_csv('../assets/weatherDate.csv')"
   ]
  },
  {
   "cell_type": "code",
   "execution_count": 162,
   "metadata": {
    "collapsed": false
   },
   "outputs": [],
   "source": [
    "dfTrain= pd.read_csv('../assets/Train.csv')"
   ]
  },
  {
   "cell_type": "code",
   "execution_count": 163,
   "metadata": {
    "collapsed": true
   },
   "outputs": [],
   "source": [
    "dfTrain['Date'] = pd.to_datetime(dfTrain['Date'])"
   ]
  },
  {
   "cell_type": "code",
   "execution_count": 164,
   "metadata": {
    "collapsed": false
   },
   "outputs": [
    {
     "name": "stdout",
     "output_type": "stream",
     "text": [
      "<class 'pandas.core.frame.DataFrame'>\n",
      "Int64Index: 21012 entries, 0 to 21011\n",
      "Data columns (total 24 columns):\n",
      "Date                      21012 non-null datetime64[ns]\n",
      "Address                   21012 non-null object\n",
      "Species                   21012 non-null object\n",
      "Block                     21012 non-null int64\n",
      "Street                    21012 non-null object\n",
      "Trap                      21012 non-null object\n",
      "AddressNumberAndStreet    21012 non-null object\n",
      "Latitude                  21012 non-null float64\n",
      "Longitude                 21012 non-null float64\n",
      "AddressAccuracy           21012 non-null int64\n",
      "NumMosquitos              21012 non-null int64\n",
      "WnvPresent                21012 non-null int64\n",
      "Station                   21012 non-null int64\n",
      "Tmax                      21012 non-null int64\n",
      "Tmin                      21012 non-null int64\n",
      "Tavg                      21012 non-null float64\n",
      "DewPoint                  21012 non-null int64\n",
      "WetBulb                   20919 non-null float64\n",
      "PrecipTotal               18979 non-null float64\n",
      "StnPressure               20919 non-null float64\n",
      "SeaLevel                  21012 non-null float64\n",
      "ResultSpeed               21012 non-null float64\n",
      "ResultDir                 21012 non-null int64\n",
      "AvgSpeed                  21012 non-null float64\n",
      "dtypes: datetime64[ns](1), float64(9), int64(9), object(5)\n",
      "memory usage: 4.0+ MB\n"
     ]
    }
   ],
   "source": [
    "df = pd.merge(dfTrain, dfWeath, on='Date', how='left')\n",
    "df.info()"
   ]
  },
  {
   "cell_type": "code",
   "execution_count": 165,
   "metadata": {
    "collapsed": true
   },
   "outputs": [],
   "source": [
    "dfWeathDate.to_csv('../assets/trainWeather.csv')"
   ]
  }
 ],
 "metadata": {
  "kernelspec": {
   "display_name": "Python 2",
   "language": "python",
   "name": "python2"
  },
  "language_info": {
   "codemirror_mode": {
    "name": "ipython",
    "version": 2
   },
   "file_extension": ".py",
   "mimetype": "text/x-python",
   "name": "python",
   "nbconvert_exporter": "python",
   "pygments_lexer": "ipython2",
   "version": "2.7.12"
  }
 },
 "nbformat": 4,
 "nbformat_minor": 0
}
